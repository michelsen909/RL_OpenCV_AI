{
 "cells": [
  {
   "cell_type": "code",
   "execution_count": 3,
   "id": "f1caa32e-07e5-4b5c-ae6a-ad3d0b7c6b68",
   "metadata": {},
   "outputs": [],
   "source": [
    "import numpy as np\n",
    "import cv2\n",
    "import time\n",
    "import os\n",
    "\n",
    "##from utils.grabscreen import grab_screen\n",
    "##from utils.getkeys import key_check"
   ]
  },
  {
   "cell_type": "code",
   "execution_count": 4,
   "id": "5e20c641-d0b9-4892-b6a3-424b8b8b4482",
   "metadata": {},
   "outputs": [],
   "source": [
    "\n",
    "import win32gui, win32ui, win32con, win32api"
   ]
  },
  {
   "cell_type": "code",
   "execution_count": 5,
   "id": "bed5d7ed-1f0c-4460-9e42-3c11c8b52738",
   "metadata": {},
   "outputs": [],
   "source": [
    "def grab_screen(region=None):\n",
    "\n",
    "    hwin = win32gui.GetDesktopWindow()\n",
    "\n",
    "    if region:\n",
    "            left, top, x2, y2 = region\n",
    "            width = x2 - left + 1\n",
    "            height = y2 - top + 1\n",
    "    else:\n",
    "        width = win32api.GetSystemMetrics(win32con.SM_CXVIRTUALSCREEN)\n",
    "        height = win32api.GetSystemMetrics(win32con.SM_CYVIRTUALSCREEN)\n",
    "        left = win32api.GetSystemMetrics(win32con.SM_XVIRTUALSCREEN)\n",
    "        top = win32api.GetSystemMetrics(win32con.SM_YVIRTUALSCREEN)\n",
    "\n",
    "    hwindc = win32gui.GetWindowDC(hwin)\n",
    "    srcdc = win32ui.CreateDCFromHandle(hwindc)\n",
    "    memdc = srcdc.CreateCompatibleDC()\n",
    "    bmp = win32ui.CreateBitmap()\n",
    "    bmp.CreateCompatibleBitmap(srcdc, width, height)\n",
    "    memdc.SelectObject(bmp)\n",
    "    memdc.BitBlt((0, 0), (width, height), srcdc, (left, top), win32con.SRCCOPY)\n",
    "    \n",
    "    signedIntsArray = bmp.GetBitmapBits(True)\n",
    "    img = np.frombuffer(signedIntsArray, dtype='uint8')\n",
    "    img.shape = (height, width, 4)\n",
    "\n",
    "    #cv2.imwrite(\"imageFULL.png\", img) \n",
    "    srcdc.DeleteDC()\n",
    "    memdc.DeleteDC()\n",
    "    win32gui.ReleaseDC(hwin, hwindc)\n",
    "    win32gui.DeleteObject(bmp.GetHandle())\n",
    "\n",
    "    return img#cv2.cvtColor(img, cv2.COLOR_BGRA2RGB)"
   ]
  },
  {
   "cell_type": "code",
   "execution_count": 6,
   "id": "1343bb55-5531-43f2-9a98-d42ce33ab96e",
   "metadata": {},
   "outputs": [],
   "source": [
    "image = grab_screen(region=(0, 25, 800, 625))\n",
    "\n",
    "# Region for top left window : region=(0, 25, 800, 625)"
   ]
  },
  {
   "cell_type": "code",
   "execution_count": 7,
   "id": "237c1ed8-2b30-4f9e-9517-c9a636fd1f9e",
   "metadata": {},
   "outputs": [
    {
     "data": {
      "text/plain": [
       "True"
      ]
     },
     "execution_count": 7,
     "metadata": {},
     "output_type": "execute_result"
    }
   ],
   "source": [
    "cv2.imwrite(\"imageFULL.png\", image) "
   ]
  },
  {
   "cell_type": "code",
   "execution_count": 8,
   "id": "4bea8f20-be67-4529-bf2e-8466e78cc915",
   "metadata": {},
   "outputs": [],
   "source": [
    "## TEST THE OPENCV"
   ]
  },
  {
   "cell_type": "code",
   "execution_count": 9,
   "id": "c03ebb21-ca0d-4ab5-9644-ee343398491a",
   "metadata": {},
   "outputs": [],
   "source": [
    "#img = cv.imread(cv.samples.findFile(\"thisisfine.PNG\"))\n",
    "#if img is None:\n",
    "#    sys.exit(\"Could not read the image.\")\n",
    "#cv.imshow(\"Display window\", img)\n",
    "#k = cv.waitKey(0)\n",
    "#if k == ord(\"s\"):\n",
    "#    cv.imwrite(\"thisisfine2.PNG\", img)"
   ]
  },
  {
   "cell_type": "code",
   "execution_count": 10,
   "id": "afc4159b-8016-4805-832d-09e29818e2a1",
   "metadata": {},
   "outputs": [],
   "source": [
    "#!pip install XInput-Python\n",
    "#!pip3 install pynput\n"
   ]
  },
  {
   "cell_type": "code",
   "execution_count": 11,
   "id": "9699d18b-fb58-4218-a9b7-a0b48c8babe6",
   "metadata": {},
   "outputs": [],
   "source": [
    "import win32api as wapi\n",
    "import XInput as XI\n",
    "\n",
    "import time"
   ]
  },
  {
   "cell_type": "code",
   "execution_count": 12,
   "id": "cbf929d6-8430-479b-8c3c-e4e4cf90d479",
   "metadata": {},
   "outputs": [
    {
     "data": {
      "text/plain": [
       "(True, True, True, False)"
      ]
     },
     "execution_count": 12,
     "metadata": {},
     "output_type": "execute_result"
    }
   ],
   "source": [
    "XI.get_connected()"
   ]
  },
  {
   "cell_type": "code",
   "execution_count": 13,
   "id": "d138de15-618e-4697-bdc5-a1a9c657bc9b",
   "metadata": {},
   "outputs": [
    {
     "data": {
      "text/plain": [
       "{'DPAD_UP': False,\n",
       " 'DPAD_DOWN': False,\n",
       " 'DPAD_LEFT': False,\n",
       " 'DPAD_RIGHT': False,\n",
       " 'START': False,\n",
       " 'BACK': False,\n",
       " 'LEFT_THUMB': False,\n",
       " 'RIGHT_THUMB': False,\n",
       " 'LEFT_SHOULDER': False,\n",
       " 'RIGHT_SHOULDER': False,\n",
       " 'A': False,\n",
       " 'B': False,\n",
       " 'X': False,\n",
       " 'Y': False}"
      ]
     },
     "execution_count": 13,
     "metadata": {},
     "output_type": "execute_result"
    }
   ],
   "source": [
    "myState = XI.get_state(2)\n",
    "XI.get_thumb_values(myState)\n",
    "XI.get_button_values(myState)\n",
    "#XI.get_trigger_values(myState)"
   ]
  },
  {
   "cell_type": "code",
   "execution_count": 14,
   "id": "7dd44954-a302-4339-807e-2e91bd498277",
   "metadata": {},
   "outputs": [],
   "source": [
    "def key_check():\n",
    "    myState = XI.get_state(2)\n",
    "    th_v = XI.get_thumb_values(myState)\n",
    "    b_v = XI.get_button_values(myState)\n",
    "    tr_v = XI.get_trigger_values(myState)\n",
    "    \n",
    "    return th_v, b_v, tr_v"
   ]
  },
  {
   "cell_type": "code",
   "execution_count": 15,
   "id": "8efd074e-b8b9-47d0-a31d-6359eae37516",
   "metadata": {},
   "outputs": [],
   "source": [
    "#keyList = [\"\\b\"]\n",
    "#for char in \"ABCDEFGHIJKLMNOPQRSTUVWXYZ 123456789,.'APS$/\\\\\":\n",
    "#    keyList.append(char)#\n",
    "#\n",
    "#def key_check():\n",
    "#    keys = []\n",
    "#    \n",
    "#    keys.append(wapi.GetAsyncKeyState(wapi.VK_PAD_A))\n",
    "#    \n",
    "#    #for key in keyList:\n",
    "#    #    if wapi.GetAsyncKeyState(ord(key)):\n",
    "#    #        keys.append(key)\n",
    "#    if 'H' in keys:\n",
    "#        return 'H'\n",
    "#    elif 'B' in keys:\n",
    "#        return 'B'\n",
    "#    elif 'A' in keys:\n",
    "#        return 'A'\n",
    "#    elif 'D' in keys:\n",
    "#        return 'D'\n",
    "#    elif ' ' in keys:\n",
    "#        return ' '\n",
    "#    else:\n",
    "#        return 'W'"
   ]
  },
  {
   "cell_type": "code",
   "execution_count": 35,
   "id": "0cb5db94-1601-4316-85b5-0a84e9412845",
   "metadata": {},
   "outputs": [],
   "source": [
    "\n",
    "import cv2\n",
    "import numpy as np \n",
    "import argparse\n",
    "import time\n",
    "\n",
    "def load_yolo():\n",
    "    net = cv2.dnn.readNet(\"yolov3.weights\", \"yolov3.cfg\")\n",
    "    net.setPreferableBackend(cv2.dnn.DNN_BACKEND_CUDA)\n",
    "    net.setPreferableTarget(cv2.dnn.DNN_TARGET_CUDA_FP16)\n",
    "    #cv2.cuda.\n",
    "    #net = cv2.dnn_DetectionModel(net)\n",
    "\n",
    "    \n",
    "    classes = []\n",
    "    with open(\"coco.names\", \"r\") as f:\n",
    "        classes = [line.strip() for line in f.readlines()]\n",
    "    layers_names = net.getLayerNames()\n",
    "    output_layers = [layers_names[i[0]-1] for i in net.getUnconnectedOutLayers()]\n",
    "    colors = np.random.uniform(0, 255, size=(len(classes), 3))\n",
    "    return net, classes, colors, output_layers"
   ]
  },
  {
   "cell_type": "code",
   "execution_count": 36,
   "id": "0c455c83-dd1c-4d15-be9a-398b527dcb24",
   "metadata": {},
   "outputs": [],
   "source": [
    "def detect_objects(img, net, outputLayers):\n",
    "    blob = cv2.dnn.blobFromImage(img, scalefactor=0.00392, size=(320, 320), mean=(0, 0, 0), swapRB=True, crop=False)\n",
    "    net.setInput(blob)\n",
    "    outputs = net.forward(outputLayers)\n",
    "    return blob, outputs"
   ]
  },
  {
   "cell_type": "code",
   "execution_count": 37,
   "id": "e84c5055-d2be-44e6-bcef-dd2d46e6fbdd",
   "metadata": {},
   "outputs": [],
   "source": [
    "def get_box_dimensions(outputs, height, width):\n",
    "    boxes = []\n",
    "    confs = []\n",
    "    class_ids = []\n",
    "    for output in outputs:\n",
    "        for detect in output:\n",
    "            scores = detect[5:]\n",
    "            #print(scores)\n",
    "            class_id = np.argmax(scores)\n",
    "            conf = scores[class_id]\n",
    "            if conf > 0.3:\n",
    "                center_x = int(detect[0] * width)\n",
    "                center_y = int(detect[1] * height)\n",
    "                w = int(detect[2] * width)\n",
    "                h = int(detect[3] * height)\n",
    "                x = int(center_x - w/2)\n",
    "                y = int(center_y - h / 2)\n",
    "                boxes.append([x, y, w, h])\n",
    "                confs.append(float(conf))\n",
    "                class_ids.append(class_id)\n",
    "    return boxes, confs, class_ids"
   ]
  },
  {
   "cell_type": "code",
   "execution_count": 38,
   "id": "4592958a-f6c9-47e4-b8d4-98bfb711007c",
   "metadata": {},
   "outputs": [],
   "source": [
    "def draw_labels(boxes, confs, colors, class_ids, classes, img): \n",
    "    indexes = cv2.dnn.NMSBoxes(boxes, confs, 0.5, 0.4)\n",
    "    font = cv2.FONT_HERSHEY_PLAIN\n",
    "    for i in range(len(boxes)):\n",
    "        if i in indexes:\n",
    "            x, y, w, h = boxes[i]\n",
    "            label = str(classes[class_ids[i]])\n",
    "            color = colors[i]\n",
    "            cv2.rectangle(img, (x,y), (x+w, y+h), color, 2)\n",
    "            cv2.putText(img, label, (x, y - 5), font, 1, color, 1)\n",
    "    return img"
   ]
  },
  {
   "cell_type": "code",
   "execution_count": 39,
   "id": "6b4f1c12-4d39-4f58-98fe-ad52a8992c2c",
   "metadata": {},
   "outputs": [],
   "source": [
    "def image_detect(img_path): \n",
    "    model, classes, colors, output_layers = load_yolo()\n",
    "    image, height, width, channels = load_image(img_path)\n",
    "    blob, outputs = detect_objects(image, model, output_layers)\n",
    "    boxes, confs, class_ids = get_box_dimensions(outputs, height, width)\n",
    "    draw_labels(boxes, confs, colors, class_ids, classes, image)\n",
    "    \n",
    "    \n",
    "    #while True:\n",
    "    #    key = cv2.waitKey(1)\n",
    "    #    if key == 27:\n",
    "    #        break"
   ]
  },
  {
   "cell_type": "code",
   "execution_count": 40,
   "id": "324d7b6a-3042-406c-9b35-f6ca6feb99ef",
   "metadata": {
    "scrolled": true,
    "tags": []
   },
   "outputs": [
    {
     "ename": "AttributeError",
     "evalue": "'cv2.dnn_DetectionModel' object has no attribute 'getLayerNames'",
     "output_type": "error",
     "traceback": [
      "\u001b[1;31m---------------------------------------------------------------------------\u001b[0m",
      "\u001b[1;31mAttributeError\u001b[0m                            Traceback (most recent call last)",
      "\u001b[1;32m<ipython-input-40-513cf02f8cce>\u001b[0m in \u001b[0;36m<module>\u001b[1;34m\u001b[0m\n\u001b[0;32m      4\u001b[0m \u001b[0mtrigger_targets\u001b[0m \u001b[1;33m=\u001b[0m \u001b[1;33m[\u001b[0m\u001b[1;33m]\u001b[0m\u001b[1;33m\u001b[0m\u001b[1;33m\u001b[0m\u001b[0m\n\u001b[0;32m      5\u001b[0m \u001b[1;33m\u001b[0m\u001b[0m\n\u001b[1;32m----> 6\u001b[1;33m \u001b[0mmodel\u001b[0m\u001b[1;33m,\u001b[0m \u001b[0mclasses\u001b[0m\u001b[1;33m,\u001b[0m \u001b[0mcolors\u001b[0m\u001b[1;33m,\u001b[0m \u001b[0moutput_layers\u001b[0m \u001b[1;33m=\u001b[0m \u001b[0mload_yolo\u001b[0m\u001b[1;33m(\u001b[0m\u001b[1;33m)\u001b[0m\u001b[1;33m\u001b[0m\u001b[1;33m\u001b[0m\u001b[0m\n\u001b[0m\u001b[0;32m      7\u001b[0m \u001b[1;33m\u001b[0m\u001b[0m\n\u001b[0;32m      8\u001b[0m \u001b[1;33m\u001b[0m\u001b[0m\n",
      "\u001b[1;32m<ipython-input-35-d3559c2ddbd1>\u001b[0m in \u001b[0;36mload_yolo\u001b[1;34m()\u001b[0m\n\u001b[0;32m     15\u001b[0m     \u001b[1;32mwith\u001b[0m \u001b[0mopen\u001b[0m\u001b[1;33m(\u001b[0m\u001b[1;34m\"coco.names\"\u001b[0m\u001b[1;33m,\u001b[0m \u001b[1;34m\"r\"\u001b[0m\u001b[1;33m)\u001b[0m \u001b[1;32mas\u001b[0m \u001b[0mf\u001b[0m\u001b[1;33m:\u001b[0m\u001b[1;33m\u001b[0m\u001b[1;33m\u001b[0m\u001b[0m\n\u001b[0;32m     16\u001b[0m         \u001b[0mclasses\u001b[0m \u001b[1;33m=\u001b[0m \u001b[1;33m[\u001b[0m\u001b[0mline\u001b[0m\u001b[1;33m.\u001b[0m\u001b[0mstrip\u001b[0m\u001b[1;33m(\u001b[0m\u001b[1;33m)\u001b[0m \u001b[1;32mfor\u001b[0m \u001b[0mline\u001b[0m \u001b[1;32min\u001b[0m \u001b[0mf\u001b[0m\u001b[1;33m.\u001b[0m\u001b[0mreadlines\u001b[0m\u001b[1;33m(\u001b[0m\u001b[1;33m)\u001b[0m\u001b[1;33m]\u001b[0m\u001b[1;33m\u001b[0m\u001b[1;33m\u001b[0m\u001b[0m\n\u001b[1;32m---> 17\u001b[1;33m     \u001b[0mlayers_names\u001b[0m \u001b[1;33m=\u001b[0m \u001b[0mnet\u001b[0m\u001b[1;33m.\u001b[0m\u001b[0mgetLayerNames\u001b[0m\u001b[1;33m(\u001b[0m\u001b[1;33m)\u001b[0m\u001b[1;33m\u001b[0m\u001b[1;33m\u001b[0m\u001b[0m\n\u001b[0m\u001b[0;32m     18\u001b[0m     \u001b[0moutput_layers\u001b[0m \u001b[1;33m=\u001b[0m \u001b[1;33m[\u001b[0m\u001b[0mlayers_names\u001b[0m\u001b[1;33m[\u001b[0m\u001b[0mi\u001b[0m\u001b[1;33m[\u001b[0m\u001b[1;36m0\u001b[0m\u001b[1;33m]\u001b[0m\u001b[1;33m-\u001b[0m\u001b[1;36m1\u001b[0m\u001b[1;33m]\u001b[0m \u001b[1;32mfor\u001b[0m \u001b[0mi\u001b[0m \u001b[1;32min\u001b[0m \u001b[0mnet\u001b[0m\u001b[1;33m.\u001b[0m\u001b[0mgetUnconnectedOutLayers\u001b[0m\u001b[1;33m(\u001b[0m\u001b[1;33m)\u001b[0m\u001b[1;33m]\u001b[0m\u001b[1;33m\u001b[0m\u001b[1;33m\u001b[0m\u001b[0m\n\u001b[0;32m     19\u001b[0m     \u001b[0mcolors\u001b[0m \u001b[1;33m=\u001b[0m \u001b[0mnp\u001b[0m\u001b[1;33m.\u001b[0m\u001b[0mrandom\u001b[0m\u001b[1;33m.\u001b[0m\u001b[0muniform\u001b[0m\u001b[1;33m(\u001b[0m\u001b[1;36m0\u001b[0m\u001b[1;33m,\u001b[0m \u001b[1;36m255\u001b[0m\u001b[1;33m,\u001b[0m \u001b[0msize\u001b[0m\u001b[1;33m=\u001b[0m\u001b[1;33m(\u001b[0m\u001b[0mlen\u001b[0m\u001b[1;33m(\u001b[0m\u001b[0mclasses\u001b[0m\u001b[1;33m)\u001b[0m\u001b[1;33m,\u001b[0m \u001b[1;36m3\u001b[0m\u001b[1;33m)\u001b[0m\u001b[1;33m)\u001b[0m\u001b[1;33m\u001b[0m\u001b[1;33m\u001b[0m\u001b[0m\n",
      "\u001b[1;31mAttributeError\u001b[0m: 'cv2.dnn_DetectionModel' object has no attribute 'getLayerNames'"
     ]
    }
   ],
   "source": [
    "image_data = []\n",
    "thumb_targets = []\n",
    "button_targets = []\n",
    "trigger_targets = []\n",
    "\n",
    "model, classes, colors, output_layers = load_yolo()\n",
    "\n",
    "\n",
    "count = 0\n",
    "while True:\n",
    "    count +=1\n",
    "    last_time = time.time()\n",
    "    image = grab_screen(region=(0, 25, 800, 625))\n",
    "\n",
    "    \n",
    "    image = cv2.resize(image, (400, 300))\n",
    "    grayImage = cv2.cvtColor(image, cv2.COLOR_RGB2GRAY)\n",
    "\n",
    "    image = cv2.cvtColor(image, cv2.COLOR_RGBA2RGB)\n",
    "    \n",
    "    height, width, channels = image.shape\n",
    "    \n",
    "    blob, outputs = detect_objects(image, model, output_layers)\n",
    "    boxes, confs, class_ids = get_box_dimensions(outputs, height, width)\n",
    "    image = draw_labels(boxes, confs, colors, class_ids, classes, image)\n",
    "    \n",
    "    \n",
    "    # Debug line to show image\n",
    "    cv2.imshow(\"AI Peak\", image)\n",
    "    cv2.waitKey(1)\n",
    "\n",
    "    # Convert to numpy array\n",
    "    image = np.array(image)\n",
    "    image_data.append(image)\n",
    "\n",
    "    th_v, b_v, tr_v = key_check()\n",
    "    thumb_targets.append(th_v)\n",
    "    button_targets.append(b_v)\n",
    "    trigger_targets.append(tr_v)\n",
    "    \n",
    "    if b_v.get('RIGHT_THUMB'):\n",
    "        break\n",
    "\n",
    "    print('loop took {} seconds'.format(time.time()-last_time))"
   ]
  },
  {
   "cell_type": "code",
   "execution_count": 60,
   "id": "1115eb3a-a07a-4e34-a6a9-95e1cc1cbe82",
   "metadata": {},
   "outputs": [
    {
     "data": {
      "text/plain": [
       "True"
      ]
     },
     "execution_count": 60,
     "metadata": {},
     "output_type": "execute_result"
    }
   ],
   "source": [
    "cv2.imwrite(\"imageFULL.png\", image_data[-1]) "
   ]
  },
  {
   "cell_type": "code",
   "execution_count": 80,
   "id": "1d099739-ec68-421d-a749-1169a322d5a4",
   "metadata": {},
   "outputs": [],
   "source": [
    "#button_targets[-1]"
   ]
  },
  {
   "cell_type": "code",
   "execution_count": null,
   "id": "bc5a526d-a56d-4907-bb04-fd242ea1c388",
   "metadata": {},
   "outputs": [],
   "source": [
    "#th_v = XI.get_thumb_values(myState)\n"
   ]
  },
  {
   "cell_type": "code",
   "execution_count": 30,
   "id": "81718dfd-360d-48df-ac10-e4c6d7e53eda",
   "metadata": {},
   "outputs": [],
   "source": [
    "#image_data = []\n",
    "#thumb_targets = []\n",
    "#button_targets = []\n",
    "#trigger_targets = []\n",
    "\n",
    "\n",
    "#count = 0\n",
    "#while True:\n",
    "#    count +=1\n",
    "#    last_time = time.time()\n",
    "#    image = grab_screen(region=(0, 25, 800, 625))##\n",
    "#\n",
    "#    #kernel1 = np.array([[0, -1, 0],\n",
    "#    #                    [-1, 5, -1],\n",
    "#    #                    [0, -1, 0]])\n",
    "#    #image = cv2.filter2D(src=image, ddepth=-1, kernel=kernel1)##\n",
    "#\n",
    "#    #image = cv2.GaussianBlur(image, ksize=(5,5),sigmaX=0, sigmaY=0)    \n",
    "#    \n",
    "#    #image = cv2.Canny(image, threshold1=120, threshold2=150)\n",
    "#    #image = cv2.\n",
    "#    \n",
    "#    image = cv2.resize(image, (400, 300))\n",
    "#    grayImage = cv2.cvtColor(image, cv2.COLOR_RGB2GRAY)##\n",
    "#\n",
    "#    #circles = cv2.HoughCircles(grayImage,cv2.HOUGH_GRADIENT_ALT, 1, 20, param1=200, param2=0.8, minRadius=0, maxRadius=-1)\n",
    "#    \n",
    "#    #if circles is not None:\n",
    "#     #   circles = np.uint16(circles)\n",
    "#     #   for pt in circles[0, :]:\n",
    "#     #       x, y, r = pt[0], pt[1], pt[2]\n",
    "#     #       cv2.circle(image, (x,y), r, (0, 0, 255), 5)\n",
    "#            \n",
    "#    #image = cv2.circle(image, (x,y), radius=2, color=(0, 0, 0), thickness=-1)\n",
    "#    #image = cv2.circle(image, (x,y), radius=2, color=(0, 0, 255), thickness=1)\n",
    "#   # cv2.imshow(f\"Circles\", color)\n",
    "#    \n",
    "#    # Debug line to show image\n",
    "#    cv2.imshow(\"AI Peak\", image)\n",
    "#    cv2.waitKey(1)\n",
    "#\n",
    "#    # Convert to numpy array\n",
    "#    image = np.array(image)\n",
    "#    image_data.append(image)#\n",
    "#\n",
    "#    th_v, b_v, tr_v = key_check()\n",
    "#    thumb_targets.append(th_v)\n",
    "#    button_targets.append(b_v)\n",
    "#    trigger_targets.append(tr_v)\n",
    "#    \n",
    "#    if b_v.get('RIGHT_THUMB'):\n",
    "#        break##\n",
    "#\n",
    "#    print('loop took {} seconds'.format(time.time()-last_time))"
   ]
  },
  {
   "cell_type": "code",
   "execution_count": null,
   "id": "046933a2-30cc-462a-9e06-3c7c6e796b6c",
   "metadata": {},
   "outputs": [],
   "source": []
  }
 ],
 "metadata": {
  "kernelspec": {
   "display_name": "Python 3",
   "language": "python",
   "name": "python3"
  },
  "language_info": {
   "codemirror_mode": {
    "name": "ipython",
    "version": 3
   },
   "file_extension": ".py",
   "mimetype": "text/x-python",
   "name": "python",
   "nbconvert_exporter": "python",
   "pygments_lexer": "ipython3",
   "version": "3.8.8"
  }
 },
 "nbformat": 4,
 "nbformat_minor": 5
}
